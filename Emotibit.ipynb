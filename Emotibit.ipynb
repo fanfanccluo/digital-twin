{
  "nbformat": 4,
  "nbformat_minor": 0,
  "metadata": {
    "colab": {
      "provenance": [],
      "authorship_tag": "ABX9TyOKgcBg2grHd51OydXeVvwE",
      "include_colab_link": true
    },
    "kernelspec": {
      "name": "python3",
      "display_name": "Python 3"
    },
    "language_info": {
      "name": "python"
    }
  },
  "cells": [
    {
      "cell_type": "markdown",
      "metadata": {
        "id": "view-in-github",
        "colab_type": "text"
      },
      "source": [
        "<a href=\"https://colab.research.google.com/github/fanfanccluo/digital-twin/blob/main/Emotibit.ipynb\" target=\"_parent\"><img src=\"https://colab.research.google.com/assets/colab-badge.svg\" alt=\"Open In Colab\"/></a>"
      ]
    },
    {
      "cell_type": "code",
      "execution_count": 1,
      "metadata": {
        "id": "keS9JGa5j0GQ"
      },
      "outputs": [],
      "source": [
        "def hi (c):\n",
        "    return c+2"
      ]
    },
    {
      "cell_type": "code",
      "source": [],
      "metadata": {
        "id": "GT61o_nUl208"
      },
      "execution_count": null,
      "outputs": []
    }
  ]
}